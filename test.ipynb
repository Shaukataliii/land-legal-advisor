{
 "cells": [
  {
   "cell_type": "code",
   "execution_count": 14,
   "metadata": {},
   "outputs": [],
   "source": [
    "import google.generativeai as genai\n",
    "import os\n",
    "from dotenv import load_dotenv\n",
    "load_dotenv(os.path.join(os.getcwd(), '..'))\n",
    "\n",
    "GOOGLE_API_KEY=\"dfafdasf\"\n",
    "genai.configure(api_key=GOOGLE_API_KEY)"
   ]
  },
  {
   "cell_type": "code",
   "execution_count": 15,
   "metadata": {},
   "outputs": [
    {
     "data": {
      "text/plain": [
       "'dfafdasf'"
      ]
     },
     "execution_count": 15,
     "metadata": {},
     "output_type": "execute_result"
    }
   ],
   "source": [
    "GOOGLE_API_KEY"
   ]
  },
  {
   "cell_type": "code",
   "execution_count": null,
   "metadata": {},
   "outputs": [],
   "source": [
    "model = genai.GenerativeModel(model_name=\"gemini-1.5-flash\")\n",
    "response = model.generate_content(\"How are you\")\n",
    "response"
   ]
  },
  {
   "cell_type": "code",
   "execution_count": 17,
   "metadata": {},
   "outputs": [
    {
     "name": "stdout",
     "output_type": "stream",
     "text": [
      "Invalid API key.\n"
     ]
    }
   ],
   "source": [
    "from google.api_core.exceptions import InvalidArgument\n",
    "\n",
    "try:\n",
    "    model = genai.GenerativeModel(model_name=\"gemini-1.5-flash\")\n",
    "    response = model.generate_content(\"How are you\")\n",
    "except InvalidArgument:\n",
    "    print(\"Invalid API key.\")"
   ]
  },
  {
   "cell_type": "code",
   "execution_count": 5,
   "metadata": {},
   "outputs": [],
   "source": [
    "# testing the documents and embeddings generated using the Punjab] Board of Revenue Act, 1957 pdf\n",
    "from langchain_community.document_loaders import PDFMinerLoader\n",
    "from langchain_text_splitters import RecursiveCharacterTextSplitter\n",
    "from langchain_google_genai import GoogleGenerativeAIEmbeddings\n",
    "from langchain_chroma import Chroma\n",
    "from langchain_google_genai import ChatGoogleGenerativeAI\n",
    "import os\n",
    "from dotenv import load_dotenv\n",
    "from langchain_core.output_parsers import StrOutputParser\n",
    "\n",
    "\n",
    "def load_split_pdf(pdf_filepath):\n",
    "    loader = PDFMinerLoader(pdf_filepath)\n",
    "    docs = loader.load()\n",
    "\n",
    "    splitter = RecursiveCharacterTextSplitter(['\\n', '\\n\\n', '.', ','])\n",
    "    docs = splitter.split_documents(docs)\n",
    "    print(\"splitted\")\n",
    "    return docs"
   ]
  },
  {
   "cell_type": "code",
   "execution_count": 11,
   "metadata": {},
   "outputs": [],
   "source": [
    "\n",
    "def prepare_vdb_retriever(docs):\n",
    "    texts = \"\\n\\n\".join([doc.page_content for doc in docs])\n",
    "    embeddings = GoogleGenerativeAIEmbeddings(model=\"models/embedding-001\")\n",
    "\n",
    "    if not os.path.exists(\"vdb_chroma_embeddings_BOR_1957\"):\n",
    "        print(\"Embeddings already exists. Skipping creating/saving again.\")\n",
    "        vdb = Chroma.from_texts(texts, embeddings, persist_directory=\"./vdb_chroma_embeddings_BOR_1957\")\n",
    "    else:\n",
    "        vdb = Chroma(embedding_function=embeddings, persist_directory=\"./vdb_chroma_embeddings_BOR_1957\")\n",
    "\n",
    "    vdb_retriever = vdb.as_retriever()\n",
    "    print(\"VDB created\")\n",
    "\n",
    "    return vdb_retriever\n"
   ]
  },
  {
   "cell_type": "code",
   "execution_count": 6,
   "metadata": {},
   "outputs": [
    {
     "name": "stdout",
     "output_type": "stream",
     "text": [
      "splitted\n"
     ]
    },
    {
     "data": {
      "text/plain": [
       "[Document(metadata={'source': 'resources\\\\books\\\\BOARD OF REVENUE ACT 1957.pdf'}, page_content='THE PUNJAB BOARD OF REVENUE ACT, 1957   \\n\\nPage 1 of 5 \\n\\nTHE PUNJAB BOARD OF REVENUE ACT, 1957 \\n(W.P. Act XI of 1957) \\n\\nC O N T E N T S \\n\\nSECTIONS \\n\\n1. \\n\\n2. \\n\\n3. \\n\\n4. \\n\\n5. \\n\\n6. \\n\\n7. \\n\\n8. \\n\\n9. \\n\\n10. \\n\\n11. \\n\\nShort title, extent and commencement. \\n\\nDefinitions. \\n\\nConstitution of a Board of Revenue. \\n\\nSuperintendence and control of Revenue Officers and Revenue Courts. \\n\\nPowers of the Board. \\n\\nConduct of business. \\n\\nRevision of orders by the Board. \\n\\nReview of orders by the Board. \\n\\nPower to make rules. \\n\\nSavings and validation. \\n\\nRepeal of  West Pakistan Ordinance XII of 1956 and continuance of action  taken \\nthereunder. \\n\\n \\n \\n \\n \\n \\n \\n \\n \\n \\n \\n \\n \\n \\n \\n\\x0cTHE PUNJAB BOARD OF REVENUE ACT, 1957   \\n\\nPage 2 of 5 \\n\\n1THE 2[PUNJAB] BOARD OF REVENUE ACT, 1957 \\n(W.P. Act XI of 1957) \\n\\n[28 February 1957] \\n\\nAn Act to provide for the constitution of a Board of Revenue for 3[the Punjab] \\nPreamble.—  WHEREAS  it  is  expedient  to  provide  for  the  constitution  of  a  Board  of \\nRevenue for 4[the Punjab]: \\n\\nIt is hereby enacted as follows:- \\n\\n1. \\n\\nShort  title,  extent  and commencement.—  (1)  This  Act  may  be  called  5[the \\n\\nPunjab] Board of Revenue Act, 1957. \\n\\n6[(2) \\n\\nIt  extends  to  the  whole  of  the  Province  of  7[the  Punjab]  except  the  Tribal \\n\\nAreas.] \\n\\n(3) \\n\\nIt  shall  be  deemed  to  have  come  into  force  on  and  from  the  14th  day  of \\n\\nOctober, 1955. \\n\\n2. \\n(i) \\n(ii) \\n(iii) \\n\\nDefinitions.— Unless there is anything repugnant in the subject or context— \\n“Board” means the Board of Revenue established under this Act; \\n“Government” means the Government of 8[the Punjab]; and \\n“Member” means a member of the Board of Revenue established under this \\nAct. \\n\\n3. \\n\\nConstitution of a Board of Revenue.— (1) There shall be a Board of Revenue \\nfor 9[the Punjab] which shall consist of such Members as may be appointed by the Government \\nfrom time to time. \\n(2) \\n\\nThe  Government  may,  whenever  considered  necessary  or  expedient,  appoint \\n\\nor remove a Member. \\n\\n4. \\n\\nSuperintendence and control of Revenue Officers and Revenue Courts.— \\n(1) Notwithstanding anything to the contrary contained in any other law for the time being in \\nforce, but subject to the provisions of sub-section (2), and to any orders of the Government \\nwith respect to the appointments and conditions of service of Revenue Officers, the general \\nsuperintendence and control over all Revenue Officers and Revenue Courts in West Pakistan \\n10shall  vest  in,  and  all  such  officers,  in  so  far  as  their  functions  as  Revenue  Officers  are \\nconcerned, shall be subordinate to the Board. \\n\\n(2) \\n\\nThe  Board  shall  be  subject  to  the  control  of  the  Government,  and  in  all \\nmatters, other  than  those  in  which  the Board  exercises  appellate  and  revisional  jurisdiction, \\nthe Government shall have power to issue such directions to the Board as may be considered \\nnecessary or expedient and the Board shall carry out those directions. \\n\\n5. \\n\\nPowers of the Board.— (1) The Board shall be the controlling authority in all \\nmatters connected with the administration of land, collection of land revenue, preparation of \\nland records and other matters relating thereto. \\n\\n(2) \\n\\nThe Board shall be the highest court of appeal and revision in revenue cases in \\n\\nthe Province. \\n\\n(3) \\n\\nAll  proceedings  relating  to  any  of  the  matters  referred  to  in  sub-sections  (1) \\nand  (2)  which  immediately  before  the  date  of  coming  into  force  of  this  Act,  were  pending \\nbefore  the  final  appellate  or  revisional  authority  of  any Province,  State  or  other  territory  or \\n\\n \\n \\n \\n \\n \\n \\n \\n \\n \\n \\n \\n \\n \\n \\n \\n \\n \\n \\n \\n \\n \\n \\n \\n\\x0cTHE PUNJAB BOARD OF REVENUE ACT, 1957   \\n\\nPage 3 of 5 \\n\\narea which has been included in the Province of West Pakistan11, shall stand transferred to the \\nBoard. \\n\\n6. \\n\\nConduct  of  business.—  (1)  Subject  to  the  approval  of  the  Government,  the \\nBoard may distribute its business amongst its members and may, by rules, regulate the procedure'),\n",
       " Document(metadata={'source': 'resources\\\\books\\\\BOARD OF REVENUE ACT 1957.pdf'}, page_content='Board. \\n\\n6. \\n\\nConduct  of  business.—  (1)  Subject  to  the  approval  of  the  Government,  the \\nBoard may distribute its business amongst its members and may, by rules, regulate the procedure \\nof all proceedings before it. \\n\\n(2) \\n\\nAny  order  made  or  a  decree  passed  by  a  Member  shall  be  deemed  to  be  the \\n\\norder or decree of the Board. \\n\\n(3)  Where  in  a  case which  the  Members  of  the  Board  are  required  to  dispose  of \\ncollectively,  in  accordance  with  the  rules  framed  under  this  Act,  there  is  a  difference  of \\nopinion amongst the Members as to the decision to be given on any point— \\n\\n(a)  it shall be decided according to the opinion of the majority of Members if there is \\n\\nsuch a majority; and  \\n\\n(b)  if the Members are equally divided, the Members shall state the point on which they \\ndiffer and the case shall then be heard, on that point, collectively by those Members \\nwho  heard  it  and  by  another  Member,  and  if  there  is  no  such  Member,  by  an \\nadditional Member to be appointed by the Government for the purpose of that case, \\nand  then  the  point  on  which  there  is  the  difference  of  opinion  shall  be  decided \\naccording to the opinion of the majority of all such Members. \\n\\n7. \\n\\nRevision of orders by the Board.— (1) Any order made or a decree passed \\nby a Member either on appeal or in revision shall, subject to any order made or decree passed \\nunder the provisions of sub-sections (2) and (3) of this section and of section 8, be final. \\n\\n(2) \\n\\nAny person considering himself aggrieved by an order made or a decree passed \\nby a Member, in such class of cases as may be specified in the rules framed under section 9 of \\nthis  Act,  may  apply  to  the  Board  for  revision  of  such  order  or  decree,  and  if  the  Full  Board \\nconsiders that there are sufficient reasons for doing so, it may revise that order or decree and pass \\nsuch further order as it may think fit after hearing the applicant: \\n\\nProvided that no revision shall lie to the Full Board against an order made or a decree \\n\\npassed by a Member in exercise of the revisional jurisdiction. \\n\\nExplanation— “Full Board” shall mean two or more Members of the Board, as may \\n\\nbe determined by the rules. \\n\\n(3) \\n\\nEvery application under sub-section (2) for revision of an order or decree shall \\n\\nbe made within a period of ninety days from the date of that order or decree. \\n\\n8. \\n\\nReview  of  orders  by  the  Board.—  (1)  Any  person  considering  himself \\naggrieved by a decree passed or order made by the Board and who, from the discovery of new \\nand important matter or evidence which, after the exercise of due diligence, was not within his \\nknowledge or could not be produced by him at the time when the decree was passed or the order \\nwas made , or on account of some mistake or error apparent on the face of the record 12[or for any \\nother sufficient reason] desires to obtain a review of the decree passed or order made against him, \\nmay apply to the Board for a review of judgment and the Board may, after giving notice to the \\nparties affected thereby and after hearing them, pass such decree or order as the circumstances of \\nthe case require. \\n(2) \\n\\nEvery application for a review of a decree or order under sub-section (1) shall \\n\\nbe made within ninety days from the date of that decree or order. \\n\\n9. \\n\\nPower to make rules.— (1) The Board may, subject to the prior approval of \\nthe Government, make rules for the purpose of carrying into effect the provisions of this Act. \\n(2)  Without prejudice to the generality of the power conferred by sub-section (1), \\n\\nthe Board may make rules for all or any of the following purposes, namely:- \\n\\n \\n \\n \\n \\n \\n \\n \\n \\n \\n \\n \\n \\n \\n \\n \\n \\n \\n \\n \\n \\n \\n \\n\\x0cTHE PUNJAB BOARD OF REVENUE ACT, 1957   \\n\\nPage 4 of 5 \\n\\n(i)  the procedure to be followed in any proceedings taken before a Revenue officer \\n\\nor Court; \\n\\n(ii)  to  prescribe  the  forms,  manner  and  subject  in,  or  on  which  any  returns  or'),\n",
       " Document(metadata={'source': 'resources\\\\books\\\\BOARD OF REVENUE ACT 1957.pdf'}, page_content='(i)  the procedure to be followed in any proceedings taken before a Revenue officer \\n\\nor Court; \\n\\n(ii)  to  prescribe  the  forms,  manner  and  subject  in,  or  on  which  any  returns  or \\ninformation  about  any  cases  or  class  of  cases  or  proceedings  or  other  matters \\nshall be submitted by a Revenue Officer or Court to the Board or to any other \\nauthority; \\n\\n(iii)  to prescribe the authorities or the officers by whom any particular cases or class \\n\\nof cases generally, or with respect to any particular locality, shall be dealt with; \\n\\n(iv)  to  provide  for  the  territorial  and  pecuniary  limits  of  jurisdiction  of  the  various \\n\\nRevenue Courts; and \\n\\n(v)  to specify the class of cases in which a revision under sub-section (2) of section \\n\\n7 shall lie to the Board. \\n\\n10. \\n\\nSavings  and  validation.—  (1)  Notwithstanding  the  expiry  of  the  West \\nPakistan  (Board  of  Revenue)  Ordinance,  1955,  everything  done,  action  taken,  obligation, \\nliability,  penalty,  or  punishment  incurred,  inquiry  or  proceedings  commenced,  Member \\nappointed or person authorized, jurisdiction or power conferred, rules made and order issued \\nunder any of the provisions of the said Ordinance shall be continued, and, so far as may be, \\nbe  deemed  to  have  been  respectively  done,  taken,  incurred,  commenced,  appointed, \\nauthorized, conferred, made or issued under this Act. \\n\\n(2) \\n\\nEverything done, action taken, obligation, liability or penalty incurred, inquiry \\nor  proceedings  commenced,  Member  appointed  or  person  authorized,  jurisdiction  or  power \\nconferred, rules made and order issued after the date of expiry of the West Pakistan (Board of \\nRevenue)  Ordinance  1955,  and  before  the  15th  day  of August,  1956,  which  could  have  been \\ndone, taken, incurred, commenced, appointed, authorized, conferred, made or issued under the \\nsaid Ordinance if it had been in force during the said period shall be continued and, so far as \\nmay  be,  be  deemed  to  have  been  respectively  done,  taken,  incurred,  commenced,  appointed, \\nauthorized, conferred, made or issued under this Act. \\n\\n11. \\n\\nRepeal of West Pakistan Ordinance XII of 1956 and continuance of action \\ntaken thereunder.— (1) The West Pakistan Board of Revenue Ordinance, 195613, is hereby \\nrepealed. \\n(2) \\n\\nNotwithstanding  the  repeal  of  the  West  Pakistan  Board  of  Revenue  Ordinance, \\n195614, or any judgment, decree or order of any Court, Tribunal or other Authority, everything \\ndone, action taken, obligation, liability or penalty incurred inquiry or proceedings commenced, \\nMember appointed or person authorized, jurisdiction or power conferred, rules made and order \\nissued under any of the provisions of the said Ordinance, shall be continued and, so far as may be, \\nbe deemed to have been respectively done, taken, incurred, commenced, appointed, authorized, \\nconferred, made or issued under this Act. \\n\\n___________________ \\n\\n1 This Act was passed by the West Pakistan Assembly on 6th Feb., 1957; assented to by the Governor of West \\nPakistan on 23rd Feb., 1957; and was published in the West Pakistan Gazette (Extraordinary), dated 28th Feb., \\n1957, pages 363-67. \\n2 Substituted by the Punjab Laws (Adaptation) Order, 1974 (Pb A.O. 1 of 1974), for “West Pakistan”. \\n3 Ibid. \\n4 Ibid. \\n\\n \\n \\n \\n \\n \\n \\n \\n \\n \\n \\n \\n \\n \\n \\n \\n \\n \\n \\n \\n                                                 \\n\\x0cTHE PUNJAB BOARD OF REVENUE ACT, 1957   \\n\\nPage 5 of 5 \\n\\n5 Ibid. \\n6 Substituted by the West Pakistan Laws (Extension to Karachi) Ordinance, 1964 (VII of 1964). \\n7 Substituted by the Punjab Laws (Adaptation) Order, 1974 (Pb A.O. 1 of 1974), for “West Pakistan”. \\n8 Ibid. \\n9 Ibid. \\n10 Now “the Punjab”. \\n11 Ibid. \\n12 Inserted by the West Pakistan Board of Revenue (Amendment) Act, 1964 (XVIII of 1964). \\n13 W.P. Ord. XII of 1956. \\n14 Ibid.'),\n",
       " Document(metadata={'source': 'resources\\\\books\\\\BOARD OF REVENUE ACT 1957.pdf'}, page_content='8 Ibid. \\n9 Ibid. \\n10 Now “the Punjab”. \\n11 Ibid. \\n12 Inserted by the West Pakistan Board of Revenue (Amendment) Act, 1964 (XVIII of 1964). \\n13 W.P. Ord. XII of 1956. \\n14 Ibid.')]"
      ]
     },
     "execution_count": 6,
     "metadata": {},
     "output_type": "execute_result"
    }
   ],
   "source": [
    "docs = load_split_pdf(r\"resources\\books\\BOARD OF REVENUE ACT 1957.pdf\")\n",
    "docs"
   ]
  },
  {
   "cell_type": "code",
   "execution_count": 12,
   "metadata": {},
   "outputs": [
    {
     "name": "stdout",
     "output_type": "stream",
     "text": [
      "VDB created\n"
     ]
    },
    {
     "data": {
      "text/plain": [
       "VectorStoreRetriever(tags=['Chroma', 'GoogleGenerativeAIEmbeddings'], vectorstore=<langchain_chroma.vectorstores.Chroma object at 0x00000285C6BC8230>)"
      ]
     },
     "execution_count": 12,
     "metadata": {},
     "output_type": "execute_result"
    }
   ],
   "source": [
    "vdb_retriever = prepare_vdb_retriever(docs)\n",
    "vdb_retriever"
   ]
  },
  {
   "cell_type": "code",
   "execution_count": 14,
   "metadata": {},
   "outputs": [
    {
     "data": {
      "text/plain": [
       "[Document(page_content='\\n'),\n",
       " Document(page_content=' '),\n",
       " Document(page_content=' '),\n",
       " Document(page_content=' ')]"
      ]
     },
     "execution_count": 14,
     "metadata": {},
     "output_type": "execute_result"
    }
   ],
   "source": [
    "vdb_retriever.invoke(\"what is THE PUNJAB BOARD OF REVENUE ACT, 1957 all about\")"
   ]
  },
  {
   "cell_type": "code",
   "execution_count": null,
   "metadata": {},
   "outputs": [],
   "source": []
  }
 ],
 "metadata": {
  "kernelspec": {
   "display_name": "langchain",
   "language": "python",
   "name": "python3"
  },
  "language_info": {
   "codemirror_mode": {
    "name": "ipython",
    "version": 3
   },
   "file_extension": ".py",
   "mimetype": "text/x-python",
   "name": "python",
   "nbconvert_exporter": "python",
   "pygments_lexer": "ipython3",
   "version": "3.12.4"
  }
 },
 "nbformat": 4,
 "nbformat_minor": 2
}
