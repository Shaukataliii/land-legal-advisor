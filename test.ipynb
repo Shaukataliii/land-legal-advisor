{
 "cells": [
  {
   "cell_type": "code",
   "execution_count": 1,
   "metadata": {},
   "outputs": [
    {
     "name": "stderr",
     "output_type": "stream",
     "text": [
      "c:\\Users\\Dmm\\anaconda3\\envs\\langchain\\Lib\\site-packages\\tqdm\\auto.py:21: TqdmWarning: IProgress not found. Please update jupyter and ipywidgets. See https://ipywidgets.readthedocs.io/en/stable/user_install.html\n",
      "  from .autonotebook import tqdm as notebook_tqdm\n"
     ]
    }
   ],
   "source": [
    "from langchain_community.document_loaders import PyPDFLoader\n",
    "from langchain_text_splitters import RecursiveCharacterTextSplitter\n",
    "from langchain_google_genai import GoogleGenerativeAI\n",
    "from langchain_google_genai import GoogleGenerativeAIEmbeddings\n",
    "from langchain_chroma import Chroma\n",
    "from langchain_core.prompts import ChatPromptTemplate, MessagesPlaceholder\n",
    "from langchain.chains.combine_documents import create_stuff_documents_chain\n",
    "from langchain.chains import create_retrieval_chain, create_history_aware_retriever\n",
    "from langchain_core.messages import HumanMessage, AIMessage\n",
    "\n",
    "import os, langchain_codebase\n"
   ]
  },
  {
   "cell_type": "code",
   "execution_count": 2,
   "metadata": {},
   "outputs": [],
   "source": [
    "books_dir = r\"resources\\books\"\n",
    "DATABASE_PATH = \"VDB-revenue_law_books\"\n",
    "SYSTEM_ROLE = langchain_codebase.load_yaml_file(\"params.yaml\")['system_role']\n",
    "all_books_docs = []\n"
   ]
  },
  {
   "cell_type": "code",
   "execution_count": 3,
   "metadata": {},
   "outputs": [
    {
     "name": "stdout",
     "output_type": "stream",
     "text": [
      "Loading retriever..\n",
      "Loading saved embeddings..\n",
      "Creating chain..\n"
     ]
    }
   ],
   "source": [
    "rag_chain = langchain_codebase.create_rag_chain_from_vdb_path_using_google_embedding(DATABASE_PATH, SYSTEM_ROLE)"
   ]
  },
  {
   "cell_type": "code",
   "execution_count": 4,
   "metadata": {},
   "outputs": [
    {
     "name": "stdout",
     "output_type": "stream",
     "text": [
      "\n",
      "\n",
      "Enter your query or type 'exit' to cancel.\n",
      "AI: The documents provide information about the qualifications, duties, and responsibilities of a Patwari. \n",
      "\n",
      "**Here's a summary of what a Patwari is based on the provided information:**\n",
      "\n",
      "* **A Patwari is a revenue official in the Punjab region.**\n",
      "* **They are responsible for maintaining land records, conducting surveys, and assisting with revenue collection.**\n",
      "* **They must have specific qualifications, including knowledge of Hindi and Punjabi, a good understanding of rural economy and culture, and successful completion of the Patwar examination and training.**\n",
      "* **Their duties include making surveys, inspecting fields, recording crops, revising maps, and reporting on mutations, partitions, revenue, rent, takavi, and other matters related to their circle.**\n",
      "* **They also assist with agricultural distress relief, elections, and human and agricultural censuses.**\n",
      "\n",
      "The documents don't explicitly define \"who\" a Patwari is in a single sentence, but they clearly outline their role and responsibilities within the revenue system. \n",
      "\n",
      "AI: The documents provided don't contain specific rules related to the mutation of \"haq shufa.\"  The provided text focuses on general mutation procedures and doesn't delve into specific types of rights or their mutation processes. \n",
      "\n"
     ]
    }
   ],
   "source": [
    "langchain_codebase.chat_loop(rag_chain)"
   ]
  },
  {
   "cell_type": "code",
   "execution_count": null,
   "metadata": {},
   "outputs": [],
   "source": []
  }
 ],
 "metadata": {
  "kernelspec": {
   "display_name": "langchain",
   "language": "python",
   "name": "python3"
  },
  "language_info": {
   "codemirror_mode": {
    "name": "ipython",
    "version": 3
   },
   "file_extension": ".py",
   "mimetype": "text/x-python",
   "name": "python",
   "nbconvert_exporter": "python",
   "pygments_lexer": "ipython3",
   "version": "3.12.4"
  }
 },
 "nbformat": 4,
 "nbformat_minor": 2
}
